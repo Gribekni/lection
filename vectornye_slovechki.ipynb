{
 "cells": [
  {
   "cell_type": "code",
   "execution_count": 25,
   "id": "08b55a48",
   "metadata": {},
   "outputs": [],
   "source": [
    "import gensim.downloader\n",
    "list(gensim.downloader.info()['models'].keys())\n",
    "w2v_rus = gensim.downloader.load(\"word2vec-ruscorpora-300\")\n"
   ]
  },
  {
   "cell_type": "markdown",
   "id": "d26dc9a6",
   "metadata": {},
   "source": [
    "Далее код из прошлого дз, с очисткой от стоп-слов"
   ]
  },
  {
   "cell_type": "code",
   "execution_count": 26,
   "id": "5be32218",
   "metadata": {},
   "outputs": [
    {
     "name": "stdout",
     "output_type": "stream",
     "text": [
      "('элли', 2011)\n",
      "('фьюри', 1374)\n",
      "('знать', 379)\n",
      "('рука', 369)\n",
      "('сделать', 330)\n",
      "('мужчина', 324)\n",
      "('определиться', 1)\n",
      "('сентиментальный', 1)\n",
      "('пойдем', 1)\n",
      "('загорится', 1)\n",
      "('провожать', 1)\n",
      "('тревожить', 1)\n",
      "('супружество', 1)\n"
     ]
    }
   ],
   "source": [
    "import spacy\n",
    "from collections import Counter\n",
    "\n",
    "try:\n",
    "    nlp = spacy.load('ru_core_news_sm')\n",
    "except OSError:\n",
    "    from spacy.cli import download\n",
    "    download('ru_core_news_sm')\n",
    "    nlp = spacy.load('ru_core_news_sm')\n",
    "\n",
    "with open('/home/roman/Downloads/Doner_Loren_Furi_(LP)_Litmir.net_bid224439_2a09f.txt', 'r', encoding='cp1251') as file:\n",
    "    content = file.read()\n",
    "    \n",
    "#решил разобраться, как работает токенизация + лемматизация только через spacy. Выводит леммы без стоп-слов + количество каждой.\n",
    "#также выводит изменение длины текста без них, а также самое частое слово, являющееся корнем предложения.\n",
    "\n",
    "doc = nlp(content)\n",
    "\n",
    "total_tokens = 0\n",
    "lemmas = []\n",
    "for token in doc:\n",
    "    if token.is_alpha:\n",
    "        total_tokens += 1\n",
    "        if not token.is_stop:\n",
    "            lemma = token.lemma_.lower()\n",
    "            lemmas.append(lemma)\n",
    "\n",
    "lemma_counts = Counter(lemmas)\n",
    "sorted_lemmas = lemma_counts.most_common()\n",
    "\n",
    "all_lemmas_str = ', '.join([f'\"{lemma}\": {count}' for lemma, count in sorted_lemmas])\n",
    "for x in range (0, 6):\n",
    "    print(sorted_lemmas[x])\n",
    "for y in range (len(sorted_lemmas)-1, len(sorted_lemmas)-8, -1):\n",
    "    print(sorted_lemmas[y])\n",
    "\n"
   ]
  },
  {
   "cell_type": "code",
   "execution_count": null,
   "id": "f94481de",
   "metadata": {},
   "outputs": [
    {
     "data": {
      "text/plain": [
       "[('аристократия_NOUN', 0.692146897315979),\n",
       " ('дворянство_NOUN', 0.6116217970848083),\n",
       " ('родовитый_ADJ', 0.5986917614936829),\n",
       " ('аристократический_ADJ', 0.596904993057251),\n",
       " ('неродовитый_ADJ', 0.575431227684021),\n",
       " ('вельможа_NOUN', 0.5505930781364441),\n",
       " ('боярство_NOUN', 0.5455875396728516),\n",
       " ('придворный_NOUN', 0.5391568541526794),\n",
       " ('высокочиновный_ADJ', 0.536150336265564),\n",
       " ('великородный_ADJ', 0.5354890823364258)]"
      ]
     },
     "execution_count": 7,
     "metadata": {},
     "output_type": "execute_result"
    }
   ],
   "source": [
    "w2v_rus.most_similar([\"элли_NOUN\"])"
   ]
  },
  {
   "cell_type": "markdown",
   "id": "b3907260",
   "metadata": {},
   "source": [
    "Увы, имя Фьюри словарь не знает..."
   ]
  },
  {
   "cell_type": "code",
   "execution_count": 8,
   "id": "92165438",
   "metadata": {},
   "outputs": [
    {
     "data": {
      "text/plain": [
       "[('понимать_VERB', 0.6547385454177856),\n",
       " ('помнить_VERB', 0.6451283097267151),\n",
       " ('узнавать_VERB', 0.6163167953491211),\n",
       " ('известно_ADV', 0.6013232469558716),\n",
       " ('болеслав::брониславич_NOUN', 0.5733630657196045),\n",
       " ('думать_VERB', 0.5715658068656921),\n",
       " ('догадываться_VERB', 0.5699055790901184),\n",
       " ('неизвестно_ADV', 0.5630512237548828),\n",
       " ('наверное_ADV', 0.5570204854011536),\n",
       " ('докторенок_NOUN', 0.547632098197937)]"
      ]
     },
     "execution_count": 8,
     "metadata": {},
     "output_type": "execute_result"
    }
   ],
   "source": [
    "w2v_rus.most_similar([\"знать_VERB\"])"
   ]
  },
  {
   "cell_type": "code",
   "execution_count": 9,
   "id": "49c4d063",
   "metadata": {},
   "outputs": [
    {
     "data": {
      "text/plain": [
       "[('ладонь_NOUN', 0.656204879283905),\n",
       " ('палец_NOUN', 0.647777795791626),\n",
       " ('ручонка_NOUN', 0.6319015622138977),\n",
       " ('локоть_NOUN', 0.5994850993156433),\n",
       " ('плечо_NOUN', 0.5825929641723633),\n",
       " ('колено_NOUN', 0.5698606371879578),\n",
       " ('дручок_NOUN', 0.5683369636535645),\n",
       " ('прижимать_VERB', 0.5640310049057007),\n",
       " ('ручка_NOUN', 0.5620887279510498),\n",
       " ('протягивать_VERB', 0.559328556060791)]"
      ]
     },
     "execution_count": 9,
     "metadata": {},
     "output_type": "execute_result"
    }
   ],
   "source": [
    "w2v_rus.most_similar([\"рука_NOUN\"])"
   ]
  },
  {
   "cell_type": "code",
   "execution_count": 10,
   "id": "a4b2a765",
   "metadata": {},
   "outputs": [
    {
     "data": {
      "text/plain": [
       "[('делать_VERB', 0.7795676589012146),\n",
       " ('делаться_VERB', 0.5033202171325684),\n",
       " ('предпринимать_VERB', 0.47929245233535767),\n",
       " ('наделать_VERB', 0.431728720664978),\n",
       " ('совершать_VERB', 0.4253925681114197),\n",
       " ('противостолбнячный::укол_NOUN', 0.4223582148551941),\n",
       " ('проделывать_VERB', 0.4158037304878235),\n",
       " ('готлиб::эрнстович_NOUN', 0.40809208154678345),\n",
       " ('панна::жиглинский_NOUN', 0.40373924374580383),\n",
       " ('попридумывать_VERB', 0.40238887071609497)]"
      ]
     },
     "execution_count": 10,
     "metadata": {},
     "output_type": "execute_result"
    }
   ],
   "source": [
    "w2v_rus.most_similar([\"сделать_VERB\"])"
   ]
  },
  {
   "cell_type": "code",
   "execution_count": 11,
   "id": "17acf50d",
   "metadata": {},
   "outputs": [
    {
     "data": {
      "text/plain": [
       "[('женщина_NOUN', 0.8522827625274658),\n",
       " ('гиперсексуальный_ADJ', 0.6385977864265442),\n",
       " ('женшин_NOUN', 0.6068923473358154),\n",
       " ('девушка_NOUN', 0.5985463857650757),\n",
       " ('мужской_ADJ', 0.5819722414016724),\n",
       " ('дама_NOUN', 0.5772186517715454),\n",
       " ('клиторальный_ADJ', 0.5732660889625549),\n",
       " ('пожилой_ADJ', 0.5731431841850281),\n",
       " ('преждевременный::семяизвержение_NOUN', 0.566863477230072),\n",
       " ('замужний_ADJ', 0.5657472014427185)]"
      ]
     },
     "execution_count": 11,
     "metadata": {},
     "output_type": "execute_result"
    }
   ],
   "source": [
    "w2v_rus.most_similar([\"мужчина_NOUN\"])"
   ]
  },
  {
   "cell_type": "markdown",
   "id": "4d455ea0",
   "metadata": {},
   "source": [
    "Словарь не знает слово ОПРЕДЕЛИТЬСЯ... Непонятно. вводил с припиской VERB, как и надо"
   ]
  },
  {
   "cell_type": "code",
   "execution_count": 24,
   "id": "be275e39",
   "metadata": {},
   "outputs": [
    {
     "data": {
      "text/plain": [
       "[('брак_NOUN', 0.7042365074157715),\n",
       " ('замужество_NOUN', 0.6472666263580322),\n",
       " ('сожительство_NOUN', 0.5881398916244507),\n",
       " ('супруг_NOUN', 0.5802174806594849),\n",
       " ('неплодие_NOUN', 0.5763464570045471),\n",
       " ('супружеский_ADJ', 0.5686371326446533),\n",
       " ('жениться_VERB', 0.5587759613990784),\n",
       " ('женитьба_NOUN', 0.5546128153800964),\n",
       " ('сочетаваться_VERB', 0.5502553582191467),\n",
       " ('исабелла_NOUN', 0.548821747303009)]"
      ]
     },
     "execution_count": 24,
     "metadata": {},
     "output_type": "execute_result"
    }
   ],
   "source": [
    "w2v_rus.most_similar([\"супружество_NOUN\"])"
   ]
  },
  {
   "cell_type": "code",
   "execution_count": 13,
   "id": "549cd9e7",
   "metadata": {},
   "outputs": [
    {
     "data": {
      "text/plain": [
       "[('сентиментальность_NOUN', 0.618821382522583),\n",
       " ('романтический_ADJ', 0.6125901341438293),\n",
       " ('сантиментальный_ADJ', 0.5604870915412903),\n",
       " ('наивный_ADJ', 0.5391454100608826),\n",
       " ('сентиментально_ADV', 0.5389115214347839),\n",
       " ('мелодраматичный_ADJ', 0.5343906879425049),\n",
       " ('пошлый_ADJ', 0.5328888893127441),\n",
       " ('трогательный_ADJ', 0.5321254730224609),\n",
       " ('слащавый_ADJ', 0.5316527485847473),\n",
       " ('элегичность_NOUN', 0.516254723072052)]"
      ]
     },
     "execution_count": 13,
     "metadata": {},
     "output_type": "execute_result"
    }
   ],
   "source": [
    "w2v_rus.most_similar([\"сентиментальный_ADJ\"])"
   ]
  },
  {
   "cell_type": "markdown",
   "id": "018f0c07",
   "metadata": {},
   "source": [
    "Слово пойдем не превратилось в нач.форму \"пойти\", возможно из-за написания через Е в файле, а не через Ё. Но я далее его всё же ввёл как \"пойти\""
   ]
  },
  {
   "cell_type": "code",
   "execution_count": 16,
   "id": "68f5a405",
   "metadata": {},
   "outputs": [
    {
     "data": {
      "text/plain": [
       "[('идти_VERB', 0.7285876274108887),\n",
       " ('побежать_VERB', 0.6871424913406372),\n",
       " ('поехать_VERB', 0.61635422706604),\n",
       " ('поводить_VERB', 0.6052573323249817),\n",
       " ('двинуться_VERB', 0.6045886874198914),\n",
       " ('отправляться_VERB', 0.5982998013496399),\n",
       " ('поплестись_VERB', 0.5981364846229553),\n",
       " ('побрести_VERB', 0.5969451069831848),\n",
       " ('зайти_VERB', 0.5904304385185242),\n",
       " ('уходить_VERB', 0.5829222798347473)]"
      ]
     },
     "execution_count": 16,
     "metadata": {},
     "output_type": "execute_result"
    }
   ],
   "source": [
    "w2v_rus.most_similar([\"пойти_VERB\"])"
   ]
  },
  {
   "cell_type": "markdown",
   "id": "c9fa72c5",
   "metadata": {},
   "source": [
    "\"Загорится\" тоже почему-то не поставилось в инфинитив. Заменил на ближайшее слово, которое тоже встречается один раз"
   ]
  },
  {
   "cell_type": "code",
   "execution_count": 22,
   "id": "a43b41be",
   "metadata": {},
   "outputs": [
    {
     "data": {
      "text/plain": [
       "[('беспокоить_VERB', 0.7803217768669128),\n",
       " ('волновать_VERB', 0.6709814071655273),\n",
       " ('смущать_VERB', 0.6075419783592224),\n",
       " ('мучить_VERB', 0.6010075807571411),\n",
       " ('тревожиться_VERB', 0.5887556076049805),\n",
       " ('пугать_VERB', 0.5847926735877991),\n",
       " ('потревожить_VERB', 0.5765310525894165),\n",
       " ('встревожить_VERB', 0.5509016513824463),\n",
       " ('обеспокоить_VERB', 0.5399960875511169),\n",
       " ('мучать_VERB', 0.538561999797821)]"
      ]
     },
     "execution_count": 22,
     "metadata": {},
     "output_type": "execute_result"
    }
   ],
   "source": [
    "w2v_rus.most_similar([\"тревожить_VERB\"])"
   ]
  },
  {
   "cell_type": "code",
   "execution_count": 21,
   "id": "d92e77fd",
   "metadata": {},
   "outputs": [
    {
     "data": {
      "text/plain": [
       "[('проводить_VERB', 0.7165954113006592),\n",
       " ('встречать_VERB', 0.4824466109275818),\n",
       " ('прощаться_VERB', 0.4667624831199646),\n",
       " ('попрощаться_VERB', 0.46148115396499634),\n",
       " ('сопровождать_VERB', 0.4474257230758667),\n",
       " ('сопровождение_NOUN', 0.43556633591651917),\n",
       " ('фляжкин_NOUN', 0.41816073656082153),\n",
       " ('проходить_VERB', 0.41222336888313293),\n",
       " ('засиживаться::допоздна_VERB', 0.4100043475627899),\n",
       " ('прощание_NOUN', 0.4093809723854065)]"
      ]
     },
     "execution_count": 21,
     "metadata": {},
     "output_type": "execute_result"
    }
   ],
   "source": [
    "w2v_rus.most_similar([\"провожать_VERB\"])"
   ]
  }
 ],
 "metadata": {
  "kernelspec": {
   "display_name": "test",
   "language": "python",
   "name": "python3"
  },
  "language_info": {
   "codemirror_mode": {
    "name": "ipython",
    "version": 3
   },
   "file_extension": ".py",
   "mimetype": "text/x-python",
   "name": "python",
   "nbconvert_exporter": "python",
   "pygments_lexer": "ipython3",
   "version": "3.12.3"
  }
 },
 "nbformat": 4,
 "nbformat_minor": 5
}
