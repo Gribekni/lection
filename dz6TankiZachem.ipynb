{
 "cells": [
  {
   "cell_type": "code",
   "execution_count": 6,
   "id": "bd13dbdf",
   "metadata": {},
   "outputs": [
    {
     "data": {
      "text/html": [
       "<pre style=\"white-space:pre;overflow-x:auto;line-height:normal;font-family:Menlo,'DejaVu Sans Mono',consolas,'Courier New',monospace\">--- Teams ---\n",
       "</pre>\n"
      ],
      "text/plain": [
       "--- Teams ---\n"
      ]
     },
     "metadata": {},
     "output_type": "display_data"
    },
    {
     "data": {
      "text/html": [
       "<pre style=\"white-space:pre;overflow-x:auto;line-height:normal;font-family:Menlo,'DejaVu Sans Mono',consolas,'Courier New',monospace\">Team Red:\n",
       "</pre>\n"
      ],
      "text/plain": [
       "Team Red:\n"
      ]
     },
     "metadata": {},
     "output_type": "display_data"
    },
    {
     "data": {
      "text/html": [
       "<pre style=\"white-space:pre;overflow-x:auto;line-height:normal;font-family:Menlo,'DejaVu Sans Mono',consolas,'Courier New',monospace\">  - <span style=\"color: #800000; text-decoration-color: #800000\">SU152</span> <span style=\"font-weight: bold\">(</span>Tank Destroyer<span style=\"font-weight: bold\">)</span> - <span style=\"color: #008080; text-decoration-color: #008080; font-weight: bold\">134</span> HP\n",
       "</pre>\n"
      ],
      "text/plain": [
       "  - \u001b[31mSU152\u001b[0m \u001b[1m(\u001b[0mTank Destroyer\u001b[1m)\u001b[0m - \u001b[1;36m134\u001b[0m HP\n"
      ]
     },
     "metadata": {},
     "output_type": "display_data"
    },
    {
     "data": {
      "text/html": [
       "<pre style=\"white-space:pre;overflow-x:auto;line-height:normal;font-family:Menlo,'DejaVu Sans Mono',consolas,'Courier New',monospace\">  - <span style=\"color: #800000; text-decoration-color: #800000\">T54Light</span> <span style=\"font-weight: bold\">(</span>Light Tank<span style=\"font-weight: bold\">)</span> - <span style=\"color: #008080; text-decoration-color: #008080; font-weight: bold\">103</span> HP\n",
       "</pre>\n"
      ],
      "text/plain": [
       "  - \u001b[31mT54Light\u001b[0m \u001b[1m(\u001b[0mLight Tank\u001b[1m)\u001b[0m - \u001b[1;36m103\u001b[0m HP\n"
      ]
     },
     "metadata": {},
     "output_type": "display_data"
    },
    {
     "data": {
      "text/html": [
       "<pre style=\"white-space:pre;overflow-x:auto;line-height:normal;font-family:Menlo,'DejaVu Sans Mono',consolas,'Courier New',monospace\">  - <span style=\"color: #800000; text-decoration-color: #800000\">GWTiger</span> <span style=\"font-weight: bold\">(</span>Artillery<span style=\"font-weight: bold\">)</span> - <span style=\"color: #008080; text-decoration-color: #008080; font-weight: bold\">140</span> HP\n",
       "</pre>\n"
      ],
      "text/plain": [
       "  - \u001b[31mGWTiger\u001b[0m \u001b[1m(\u001b[0mArtillery\u001b[1m)\u001b[0m - \u001b[1;36m140\u001b[0m HP\n"
      ]
     },
     "metadata": {},
     "output_type": "display_data"
    },
    {
     "data": {
      "text/html": [
       "<pre style=\"white-space:pre;overflow-x:auto;line-height:normal;font-family:Menlo,'DejaVu Sans Mono',consolas,'Courier New',monospace\">  - <span style=\"color: #800000; text-decoration-color: #800000\">GWTiger</span> <span style=\"font-weight: bold\">(</span>Artillery<span style=\"font-weight: bold\">)</span> - <span style=\"color: #008080; text-decoration-color: #008080; font-weight: bold\">100</span> HP\n",
       "</pre>\n"
      ],
      "text/plain": [
       "  - \u001b[31mGWTiger\u001b[0m \u001b[1m(\u001b[0mArtillery\u001b[1m)\u001b[0m - \u001b[1;36m100\u001b[0m HP\n"
      ]
     },
     "metadata": {},
     "output_type": "display_data"
    },
    {
     "data": {
      "text/html": [
       "<pre style=\"white-space:pre;overflow-x:auto;line-height:normal;font-family:Menlo,'DejaVu Sans Mono',consolas,'Courier New',monospace\">  - <span style=\"color: #800000; text-decoration-color: #800000\">GWTiger</span> <span style=\"font-weight: bold\">(</span>Artillery<span style=\"font-weight: bold\">)</span> - <span style=\"color: #008080; text-decoration-color: #008080; font-weight: bold\">139</span> HP\n",
       "</pre>\n"
      ],
      "text/plain": [
       "  - \u001b[31mGWTiger\u001b[0m \u001b[1m(\u001b[0mArtillery\u001b[1m)\u001b[0m - \u001b[1;36m139\u001b[0m HP\n"
      ]
     },
     "metadata": {},
     "output_type": "display_data"
    },
    {
     "data": {
      "text/html": [
       "<pre style=\"white-space:pre;overflow-x:auto;line-height:normal;font-family:Menlo,'DejaVu Sans Mono',consolas,'Courier New',monospace\">Team Blue:\n",
       "</pre>\n"
      ],
      "text/plain": [
       "Team Blue:\n"
      ]
     },
     "metadata": {},
     "output_type": "display_data"
    },
    {
     "data": {
      "text/html": [
       "<pre style=\"white-space:pre;overflow-x:auto;line-height:normal;font-family:Menlo,'DejaVu Sans Mono',consolas,'Courier New',monospace\">  - <span style=\"color: #000080; text-decoration-color: #000080\">Tiger1</span> <span style=\"font-weight: bold\">(</span>Heavy<span style=\"font-weight: bold\">)</span> - <span style=\"color: #008080; text-decoration-color: #008080; font-weight: bold\">113</span> HP\n",
       "</pre>\n"
      ],
      "text/plain": [
       "  - \u001b[34mTiger1\u001b[0m \u001b[1m(\u001b[0mHeavy\u001b[1m)\u001b[0m - \u001b[1;36m113\u001b[0m HP\n"
      ]
     },
     "metadata": {},
     "output_type": "display_data"
    },
    {
     "data": {
      "text/html": [
       "<pre style=\"white-space:pre;overflow-x:auto;line-height:normal;font-family:Menlo,'DejaVu Sans Mono',consolas,'Courier New',monospace\">  - <span style=\"color: #000080; text-decoration-color: #000080\">212A</span> <span style=\"font-weight: bold\">(</span>Artillery<span style=\"font-weight: bold\">)</span> - <span style=\"color: #008080; text-decoration-color: #008080; font-weight: bold\">118</span> HP\n",
       "</pre>\n"
      ],
      "text/plain": [
       "  - \u001b[34m212A\u001b[0m \u001b[1m(\u001b[0mArtillery\u001b[1m)\u001b[0m - \u001b[1;36m118\u001b[0m HP\n"
      ]
     },
     "metadata": {},
     "output_type": "display_data"
    },
    {
     "data": {
      "text/html": [
       "<pre style=\"white-space:pre;overflow-x:auto;line-height:normal;font-family:Menlo,'DejaVu Sans Mono',consolas,'Courier New',monospace\">  - <span style=\"color: #000080; text-decoration-color: #000080\">Tiger1</span> <span style=\"font-weight: bold\">(</span>Heavy<span style=\"font-weight: bold\">)</span> - <span style=\"color: #008080; text-decoration-color: #008080; font-weight: bold\">134</span> HP\n",
       "</pre>\n"
      ],
      "text/plain": [
       "  - \u001b[34mTiger1\u001b[0m \u001b[1m(\u001b[0mHeavy\u001b[1m)\u001b[0m - \u001b[1;36m134\u001b[0m HP\n"
      ]
     },
     "metadata": {},
     "output_type": "display_data"
    },
    {
     "data": {
      "text/html": [
       "<pre style=\"white-space:pre;overflow-x:auto;line-height:normal;font-family:Menlo,'DejaVu Sans Mono',consolas,'Courier New',monospace\">  - <span style=\"color: #000080; text-decoration-color: #000080\">T62A</span> <span style=\"font-weight: bold\">(</span>Medium Tank<span style=\"font-weight: bold\">)</span> - <span style=\"color: #008080; text-decoration-color: #008080; font-weight: bold\">127</span> HP\n",
       "</pre>\n"
      ],
      "text/plain": [
       "  - \u001b[34mT62A\u001b[0m \u001b[1m(\u001b[0mMedium Tank\u001b[1m)\u001b[0m - \u001b[1;36m127\u001b[0m HP\n"
      ]
     },
     "metadata": {},
     "output_type": "display_data"
    },
    {
     "data": {
      "text/html": [
       "<pre style=\"white-space:pre;overflow-x:auto;line-height:normal;font-family:Menlo,'DejaVu Sans Mono',consolas,'Courier New',monospace\">  - <span style=\"color: #000080; text-decoration-color: #000080\">212A</span> <span style=\"font-weight: bold\">(</span>Artillery<span style=\"font-weight: bold\">)</span> - <span style=\"color: #008080; text-decoration-color: #008080; font-weight: bold\">115</span> HP\n",
       "</pre>\n"
      ],
      "text/plain": [
       "  - \u001b[34m212A\u001b[0m \u001b[1m(\u001b[0mArtillery\u001b[1m)\u001b[0m - \u001b[1;36m115\u001b[0m HP\n"
      ]
     },
     "metadata": {},
     "output_type": "display_data"
    },
    {
     "data": {
      "text/html": [
       "<pre style=\"white-space:pre;overflow-x:auto;line-height:normal;font-family:Menlo,'DejaVu Sans Mono',consolas,'Courier New',monospace\">\n",
       "--- Round <span style=\"color: #008080; text-decoration-color: #008080; font-weight: bold\">1</span> ---\n",
       "</pre>\n"
      ],
      "text/plain": [
       "\n",
       "--- Round \u001b[1;36m1\u001b[0m ---\n"
      ]
     },
     "metadata": {},
     "output_type": "display_data"
    },
    {
     "name": "stdout",
     "output_type": "stream",
     "text": [
      "T54Light attacks Tiger1 for 29 damage!\n",
      "212A attacks GWTiger for 28 damage!\n"
     ]
    },
    {
     "data": {
      "text/html": [
       "<pre style=\"white-space:pre;overflow-x:auto;line-height:normal;font-family:Menlo,'DejaVu Sans Mono',consolas,'Courier New',monospace\">\n",
       "--- Round <span style=\"color: #008080; text-decoration-color: #008080; font-weight: bold\">2</span> ---\n",
       "</pre>\n"
      ],
      "text/plain": [
       "\n",
       "--- Round \u001b[1;36m2\u001b[0m ---\n"
      ]
     },
     "metadata": {},
     "output_type": "display_data"
    },
    {
     "name": "stdout",
     "output_type": "stream",
     "text": [
      "GWTiger attacks 212A for 24 damage!\n",
      "Tiger1 attacks GWTiger for 38 damage!\n"
     ]
    },
    {
     "data": {
      "text/html": [
       "<pre style=\"white-space:pre;overflow-x:auto;line-height:normal;font-family:Menlo,'DejaVu Sans Mono',consolas,'Courier New',monospace\">\n",
       "--- Round <span style=\"color: #008080; text-decoration-color: #008080; font-weight: bold\">3</span> ---\n",
       "</pre>\n"
      ],
      "text/plain": [
       "\n",
       "--- Round \u001b[1;36m3\u001b[0m ---\n"
      ]
     },
     "metadata": {},
     "output_type": "display_data"
    },
    {
     "name": "stdout",
     "output_type": "stream",
     "text": [
      "T54Light attacks Tiger1 for 21 damage!\n",
      "212A attacks SU152 for 27 damage!\n"
     ]
    },
    {
     "data": {
      "text/html": [
       "<pre style=\"white-space:pre;overflow-x:auto;line-height:normal;font-family:Menlo,'DejaVu Sans Mono',consolas,'Courier New',monospace\">\n",
       "--- Round <span style=\"color: #008080; text-decoration-color: #008080; font-weight: bold\">4</span> ---\n",
       "</pre>\n"
      ],
      "text/plain": [
       "\n",
       "--- Round \u001b[1;36m4\u001b[0m ---\n"
      ]
     },
     "metadata": {},
     "output_type": "display_data"
    },
    {
     "name": "stdout",
     "output_type": "stream",
     "text": [
      "T54Light attacks T62A for 25 damage!\n",
      "Tiger1 attacks GWTiger for 32 damage!\n"
     ]
    },
    {
     "data": {
      "text/html": [
       "<pre style=\"white-space:pre;overflow-x:auto;line-height:normal;font-family:Menlo,'DejaVu Sans Mono',consolas,'Courier New',monospace\">\n",
       "--- Round <span style=\"color: #008080; text-decoration-color: #008080; font-weight: bold\">5</span> ---\n",
       "</pre>\n"
      ],
      "text/plain": [
       "\n",
       "--- Round \u001b[1;36m5\u001b[0m ---\n"
      ]
     },
     "metadata": {},
     "output_type": "display_data"
    },
    {
     "name": "stdout",
     "output_type": "stream",
     "text": [
      "GWTiger attacks Tiger1 for 25 damage!\n",
      "212A attacks GWTiger for 28 damage!\n"
     ]
    },
    {
     "data": {
      "text/html": [
       "<pre style=\"white-space:pre;overflow-x:auto;line-height:normal;font-family:Menlo,'DejaVu Sans Mono',consolas,'Courier New',monospace\">\n",
       "--- Round <span style=\"color: #008080; text-decoration-color: #008080; font-weight: bold\">6</span> ---\n",
       "</pre>\n"
      ],
      "text/plain": [
       "\n",
       "--- Round \u001b[1;36m6\u001b[0m ---\n"
      ]
     },
     "metadata": {},
     "output_type": "display_data"
    },
    {
     "name": "stdout",
     "output_type": "stream",
     "text": [
      "SU152 attacks Tiger1 for 45 damage!\n",
      "Tiger1 attacks GWTiger for 35 damage!\n"
     ]
    },
    {
     "data": {
      "text/html": [
       "<pre style=\"white-space:pre;overflow-x:auto;line-height:normal;font-family:Menlo,'DejaVu Sans Mono',consolas,'Courier New',monospace\">\n",
       "--- Round <span style=\"color: #008080; text-decoration-color: #008080; font-weight: bold\">7</span> ---\n",
       "</pre>\n"
      ],
      "text/plain": [
       "\n",
       "--- Round \u001b[1;36m7\u001b[0m ---\n"
      ]
     },
     "metadata": {},
     "output_type": "display_data"
    },
    {
     "name": "stdout",
     "output_type": "stream",
     "text": [
      "GWTiger attacks T62A for 20 damage!\n",
      "Tiger1 attacks GWTiger for 34 damage!\n"
     ]
    },
    {
     "data": {
      "text/html": [
       "<pre style=\"white-space:pre;overflow-x:auto;line-height:normal;font-family:Menlo,'DejaVu Sans Mono',consolas,'Courier New',monospace\">\n",
       "--- Round <span style=\"color: #008080; text-decoration-color: #008080; font-weight: bold\">8</span> ---\n",
       "</pre>\n"
      ],
      "text/plain": [
       "\n",
       "--- Round \u001b[1;36m8\u001b[0m ---\n"
      ]
     },
     "metadata": {},
     "output_type": "display_data"
    },
    {
     "name": "stdout",
     "output_type": "stream",
     "text": [
      "GWTiger attacks Tiger1 for 27 damage!\n",
      "212A attacks T54Light for 24 damage!\n"
     ]
    },
    {
     "data": {
      "text/html": [
       "<pre style=\"white-space:pre;overflow-x:auto;line-height:normal;font-family:Menlo,'DejaVu Sans Mono',consolas,'Courier New',monospace\">\n",
       "--- Round <span style=\"color: #008080; text-decoration-color: #008080; font-weight: bold\">9</span> ---\n",
       "</pre>\n"
      ],
      "text/plain": [
       "\n",
       "--- Round \u001b[1;36m9\u001b[0m ---\n"
      ]
     },
     "metadata": {},
     "output_type": "display_data"
    },
    {
     "name": "stdout",
     "output_type": "stream",
     "text": [
      "GWTiger attacks Tiger1 for 26 damage!\n",
      "T62A attacks GWTiger for 36 damage!\n",
      "GWTiger has been destroyed by T62A!\n"
     ]
    },
    {
     "data": {
      "text/html": [
       "<pre style=\"white-space:pre;overflow-x:auto;line-height:normal;font-family:Menlo,'DejaVu Sans Mono',consolas,'Courier New',monospace\">\n",
       "--- Round <span style=\"color: #008080; text-decoration-color: #008080; font-weight: bold\">10</span> ---\n",
       "</pre>\n"
      ],
      "text/plain": [
       "\n",
       "--- Round \u001b[1;36m10\u001b[0m ---\n"
      ]
     },
     "metadata": {},
     "output_type": "display_data"
    },
    {
     "name": "stdout",
     "output_type": "stream",
     "text": [
      "GWTiger attacks Tiger1 for 27 damage!\n",
      "T62A attacks GWTiger for 30 damage!\n"
     ]
    },
    {
     "data": {
      "text/html": [
       "<pre style=\"white-space:pre;overflow-x:auto;line-height:normal;font-family:Menlo,'DejaVu Sans Mono',consolas,'Courier New',monospace\">\n",
       "--- Round <span style=\"color: #008080; text-decoration-color: #008080; font-weight: bold\">11</span> ---\n",
       "</pre>\n"
      ],
      "text/plain": [
       "\n",
       "--- Round \u001b[1;36m11\u001b[0m ---\n"
      ]
     },
     "metadata": {},
     "output_type": "display_data"
    },
    {
     "name": "stdout",
     "output_type": "stream",
     "text": [
      "T54Light attacks Tiger1 for 27 damage!\n",
      "212A attacks T54Light for 30 damage!\n"
     ]
    },
    {
     "data": {
      "text/html": [
       "<pre style=\"white-space:pre;overflow-x:auto;line-height:normal;font-family:Menlo,'DejaVu Sans Mono',consolas,'Courier New',monospace\">\n",
       "--- Round <span style=\"color: #008080; text-decoration-color: #008080; font-weight: bold\">12</span> ---\n",
       "</pre>\n"
      ],
      "text/plain": [
       "\n",
       "--- Round \u001b[1;36m12\u001b[0m ---\n"
      ]
     },
     "metadata": {},
     "output_type": "display_data"
    },
    {
     "name": "stdout",
     "output_type": "stream",
     "text": [
      "GWTiger attacks Tiger1 for 22 damage!\n",
      "Tiger1 has been destroyed by GWTiger!\n",
      "212A attacks T54Light for 20 damage!\n"
     ]
    },
    {
     "data": {
      "text/html": [
       "<pre style=\"white-space:pre;overflow-x:auto;line-height:normal;font-family:Menlo,'DejaVu Sans Mono',consolas,'Courier New',monospace\">\n",
       "--- Round <span style=\"color: #008080; text-decoration-color: #008080; font-weight: bold\">13</span> ---\n",
       "</pre>\n"
      ],
      "text/plain": [
       "\n",
       "--- Round \u001b[1;36m13\u001b[0m ---\n"
      ]
     },
     "metadata": {},
     "output_type": "display_data"
    },
    {
     "name": "stdout",
     "output_type": "stream",
     "text": [
      "T54Light attacks 212A for 20 damage!\n",
      "T62A attacks SU152 for 35 damage!\n"
     ]
    },
    {
     "data": {
      "text/html": [
       "<pre style=\"white-space:pre;overflow-x:auto;line-height:normal;font-family:Menlo,'DejaVu Sans Mono',consolas,'Courier New',monospace\">\n",
       "--- Round <span style=\"color: #008080; text-decoration-color: #008080; font-weight: bold\">14</span> ---\n",
       "</pre>\n"
      ],
      "text/plain": [
       "\n",
       "--- Round \u001b[1;36m14\u001b[0m ---\n"
      ]
     },
     "metadata": {},
     "output_type": "display_data"
    },
    {
     "name": "stdout",
     "output_type": "stream",
     "text": [
      "GWTiger attacks T62A for 21 damage!\n",
      "212A attacks GWTiger for 20 damage!\n"
     ]
    },
    {
     "data": {
      "text/html": [
       "<pre style=\"white-space:pre;overflow-x:auto;line-height:normal;font-family:Menlo,'DejaVu Sans Mono',consolas,'Courier New',monospace\">\n",
       "--- Round <span style=\"color: #008080; text-decoration-color: #008080; font-weight: bold\">15</span> ---\n",
       "</pre>\n"
      ],
      "text/plain": [
       "\n",
       "--- Round \u001b[1;36m15\u001b[0m ---\n"
      ]
     },
     "metadata": {},
     "output_type": "display_data"
    },
    {
     "name": "stdout",
     "output_type": "stream",
     "text": [
      "T54Light attacks Tiger1 for 33 damage!\n",
      "Tiger1 has been destroyed by T54Light!\n",
      "212A attacks GWTiger for 20 damage!\n"
     ]
    },
    {
     "data": {
      "text/html": [
       "<pre style=\"white-space:pre;overflow-x:auto;line-height:normal;font-family:Menlo,'DejaVu Sans Mono',consolas,'Courier New',monospace\">\n",
       "--- Round <span style=\"color: #008080; text-decoration-color: #008080; font-weight: bold\">16</span> ---\n",
       "</pre>\n"
      ],
      "text/plain": [
       "\n",
       "--- Round \u001b[1;36m16\u001b[0m ---\n"
      ]
     },
     "metadata": {},
     "output_type": "display_data"
    },
    {
     "name": "stdout",
     "output_type": "stream",
     "text": [
      "GWTiger attacks 212A for 28 damage!\n",
      "212A attacks T54Light for 29 damage!\n"
     ]
    },
    {
     "data": {
      "text/html": [
       "<pre style=\"white-space:pre;overflow-x:auto;line-height:normal;font-family:Menlo,'DejaVu Sans Mono',consolas,'Courier New',monospace\">\n",
       "--- Round <span style=\"color: #008080; text-decoration-color: #008080; font-weight: bold\">17</span> ---\n",
       "</pre>\n"
      ],
      "text/plain": [
       "\n",
       "--- Round \u001b[1;36m17\u001b[0m ---\n"
      ]
     },
     "metadata": {},
     "output_type": "display_data"
    },
    {
     "name": "stdout",
     "output_type": "stream",
     "text": [
      "GWTiger attacks T62A for 27 damage!\n",
      "212A attacks SU152 for 26 damage!\n"
     ]
    },
    {
     "data": {
      "text/html": [
       "<pre style=\"white-space:pre;overflow-x:auto;line-height:normal;font-family:Menlo,'DejaVu Sans Mono',consolas,'Courier New',monospace\">\n",
       "--- Round <span style=\"color: #008080; text-decoration-color: #008080; font-weight: bold\">18</span> ---\n",
       "</pre>\n"
      ],
      "text/plain": [
       "\n",
       "--- Round \u001b[1;36m18\u001b[0m ---\n"
      ]
     },
     "metadata": {},
     "output_type": "display_data"
    },
    {
     "name": "stdout",
     "output_type": "stream",
     "text": [
      "GWTiger attacks T62A for 24 damage!\n",
      "212A attacks GWTiger for 28 damage!\n",
      "GWTiger has been destroyed by 212A!\n"
     ]
    },
    {
     "data": {
      "text/html": [
       "<pre style=\"white-space:pre;overflow-x:auto;line-height:normal;font-family:Menlo,'DejaVu Sans Mono',consolas,'Courier New',monospace\">\n",
       "--- Round <span style=\"color: #008080; text-decoration-color: #008080; font-weight: bold\">19</span> ---\n",
       "</pre>\n"
      ],
      "text/plain": [
       "\n",
       "--- Round \u001b[1;36m19\u001b[0m ---\n"
      ]
     },
     "metadata": {},
     "output_type": "display_data"
    },
    {
     "name": "stdout",
     "output_type": "stream",
     "text": [
      "GWTiger attacks T62A for 28 damage!\n",
      "T62A has been destroyed by GWTiger!\n",
      "212A attacks GWTiger for 27 damage!\n"
     ]
    },
    {
     "data": {
      "text/html": [
       "<pre style=\"white-space:pre;overflow-x:auto;line-height:normal;font-family:Menlo,'DejaVu Sans Mono',consolas,'Courier New',monospace\">\n",
       "--- Round <span style=\"color: #008080; text-decoration-color: #008080; font-weight: bold\">20</span> ---\n",
       "</pre>\n"
      ],
      "text/plain": [
       "\n",
       "--- Round \u001b[1;36m20\u001b[0m ---\n"
      ]
     },
     "metadata": {},
     "output_type": "display_data"
    },
    {
     "name": "stdout",
     "output_type": "stream",
     "text": [
      "SU152 attacks 212A for 59 damage!\n",
      "212A has been destroyed by SU152!\n",
      "212A attacks GWTiger for 28 damage!\n"
     ]
    },
    {
     "data": {
      "text/html": [
       "<pre style=\"white-space:pre;overflow-x:auto;line-height:normal;font-family:Menlo,'DejaVu Sans Mono',consolas,'Courier New',monospace\">\n",
       "--- Round <span style=\"color: #008080; text-decoration-color: #008080; font-weight: bold\">21</span> ---\n",
       "</pre>\n"
      ],
      "text/plain": [
       "\n",
       "--- Round \u001b[1;36m21\u001b[0m ---\n"
      ]
     },
     "metadata": {},
     "output_type": "display_data"
    },
    {
     "name": "stdout",
     "output_type": "stream",
     "text": [
      "T54Light attacks 212A for 27 damage!\n",
      "212A attacks SU152 for 20 damage!\n"
     ]
    },
    {
     "data": {
      "text/html": [
       "<pre style=\"white-space:pre;overflow-x:auto;line-height:normal;font-family:Menlo,'DejaVu Sans Mono',consolas,'Courier New',monospace\">\n",
       "--- Round <span style=\"color: #008080; text-decoration-color: #008080; font-weight: bold\">22</span> ---\n",
       "</pre>\n"
      ],
      "text/plain": [
       "\n",
       "--- Round \u001b[1;36m22\u001b[0m ---\n"
      ]
     },
     "metadata": {},
     "output_type": "display_data"
    },
    {
     "name": "stdout",
     "output_type": "stream",
     "text": [
      "GWTiger attacks 212A for 30 damage!\n",
      "212A attacks GWTiger for 26 damage!\n"
     ]
    },
    {
     "data": {
      "text/html": [
       "<pre style=\"white-space:pre;overflow-x:auto;line-height:normal;font-family:Menlo,'DejaVu Sans Mono',consolas,'Courier New',monospace\">\n",
       "--- Round <span style=\"color: #008080; text-decoration-color: #008080; font-weight: bold\">23</span> ---\n",
       "</pre>\n"
      ],
      "text/plain": [
       "\n",
       "--- Round \u001b[1;36m23\u001b[0m ---\n"
      ]
     },
     "metadata": {},
     "output_type": "display_data"
    },
    {
     "name": "stdout",
     "output_type": "stream",
     "text": [
      "T54Light attacks 212A for 29 damage!\n",
      "212A attacks T54Light for 29 damage!\n",
      "T54Light has been destroyed by 212A!\n"
     ]
    },
    {
     "data": {
      "text/html": [
       "<pre style=\"white-space:pre;overflow-x:auto;line-height:normal;font-family:Menlo,'DejaVu Sans Mono',consolas,'Courier New',monospace\">\n",
       "--- Round <span style=\"color: #008080; text-decoration-color: #008080; font-weight: bold\">24</span> ---\n",
       "</pre>\n"
      ],
      "text/plain": [
       "\n",
       "--- Round \u001b[1;36m24\u001b[0m ---\n"
      ]
     },
     "metadata": {},
     "output_type": "display_data"
    },
    {
     "name": "stdout",
     "output_type": "stream",
     "text": [
      "GWTiger attacks 212A for 25 damage!\n",
      "212A attacks SU152 for 27 damage!\n"
     ]
    },
    {
     "data": {
      "text/html": [
       "<pre style=\"white-space:pre;overflow-x:auto;line-height:normal;font-family:Menlo,'DejaVu Sans Mono',consolas,'Courier New',monospace\">\n",
       "--- Round <span style=\"color: #008080; text-decoration-color: #008080; font-weight: bold\">25</span> ---\n",
       "</pre>\n"
      ],
      "text/plain": [
       "\n",
       "--- Round \u001b[1;36m25\u001b[0m ---\n"
      ]
     },
     "metadata": {},
     "output_type": "display_data"
    },
    {
     "name": "stdout",
     "output_type": "stream",
     "text": [
      "SU152 attacks 212A for 44 damage!\n",
      "212A has been destroyed by SU152!\n"
     ]
    },
    {
     "data": {
      "text/html": [
       "<pre style=\"white-space:pre;overflow-x:auto;line-height:normal;font-family:Menlo,'DejaVu Sans Mono',consolas,'Courier New',monospace\">\n",
       "--- Battle Over ---\n",
       "</pre>\n"
      ],
      "text/plain": [
       "\n",
       "--- Battle Over ---\n"
      ]
     },
     "metadata": {},
     "output_type": "display_data"
    },
    {
     "data": {
      "text/html": [
       "<pre style=\"white-space:pre;overflow-x:auto;line-height:normal;font-family:Menlo,'DejaVu Sans Mono',consolas,'Courier New',monospace\">Team Red wins!\n",
       "</pre>\n"
      ],
      "text/plain": [
       "Team Red wins!\n"
      ]
     },
     "metadata": {},
     "output_type": "display_data"
    },
    {
     "data": {
      "text/html": [
       "<pre style=\"white-space:pre;overflow-x:auto;line-height:normal;font-family:Menlo,'DejaVu Sans Mono',consolas,'Courier New',monospace\">\n",
       "Final Teams Status:\n",
       "</pre>\n"
      ],
      "text/plain": [
       "\n",
       "Final Teams Status:\n"
      ]
     },
     "metadata": {},
     "output_type": "display_data"
    },
    {
     "data": {
      "text/html": [
       "<pre style=\"white-space:pre;overflow-x:auto;line-height:normal;font-family:Menlo,'DejaVu Sans Mono',consolas,'Courier New',monospace\">Team Red:\n",
       "</pre>\n"
      ],
      "text/plain": [
       "Team Red:\n"
      ]
     },
     "metadata": {},
     "output_type": "display_data"
    },
    {
     "data": {
      "text/html": [
       "<pre style=\"white-space:pre;overflow-x:auto;line-height:normal;font-family:Menlo,'DejaVu Sans Mono',consolas,'Courier New',monospace\">  - <span style=\"color: #800000; text-decoration-color: #800000\">SU152</span> <span style=\"font-weight: bold\">(</span>Tank Destroyer<span style=\"font-weight: bold\">)</span> - <span style=\"color: #008080; text-decoration-color: #008080; font-weight: bold\">19</span> HP\n",
       "</pre>\n"
      ],
      "text/plain": [
       "  - \u001b[31mSU152\u001b[0m \u001b[1m(\u001b[0mTank Destroyer\u001b[1m)\u001b[0m - \u001b[1;36m19\u001b[0m HP\n"
      ]
     },
     "metadata": {},
     "output_type": "display_data"
    },
    {
     "data": {
      "text/html": [
       "<pre style=\"white-space:pre;overflow-x:auto;line-height:normal;font-family:Menlo,'DejaVu Sans Mono',consolas,'Courier New',monospace\">  - <span style=\"color: #800000; text-decoration-color: #800000\">T54Light</span> <span style=\"font-weight: bold\">(</span>Light Tank<span style=\"font-weight: bold\">)</span> - DESTROYED\n",
       "</pre>\n"
      ],
      "text/plain": [
       "  - \u001b[31mT54Light\u001b[0m \u001b[1m(\u001b[0mLight Tank\u001b[1m)\u001b[0m - DESTROYED\n"
      ]
     },
     "metadata": {},
     "output_type": "display_data"
    },
    {
     "data": {
      "text/html": [
       "<pre style=\"white-space:pre;overflow-x:auto;line-height:normal;font-family:Menlo,'DejaVu Sans Mono',consolas,'Courier New',monospace\">  - <span style=\"color: #800000; text-decoration-color: #800000\">GWTiger</span> <span style=\"font-weight: bold\">(</span>Artillery<span style=\"font-weight: bold\">)</span> - <span style=\"color: #008080; text-decoration-color: #008080; font-weight: bold\">31</span> HP\n",
       "</pre>\n"
      ],
      "text/plain": [
       "  - \u001b[31mGWTiger\u001b[0m \u001b[1m(\u001b[0mArtillery\u001b[1m)\u001b[0m - \u001b[1;36m31\u001b[0m HP\n"
      ]
     },
     "metadata": {},
     "output_type": "display_data"
    },
    {
     "data": {
      "text/html": [
       "<pre style=\"white-space:pre;overflow-x:auto;line-height:normal;font-family:Menlo,'DejaVu Sans Mono',consolas,'Courier New',monospace\">  - <span style=\"color: #800000; text-decoration-color: #800000\">GWTiger</span> <span style=\"font-weight: bold\">(</span>Artillery<span style=\"font-weight: bold\">)</span> - DESTROYED\n",
       "</pre>\n"
      ],
      "text/plain": [
       "  - \u001b[31mGWTiger\u001b[0m \u001b[1m(\u001b[0mArtillery\u001b[1m)\u001b[0m - DESTROYED\n"
      ]
     },
     "metadata": {},
     "output_type": "display_data"
    },
    {
     "data": {
      "text/html": [
       "<pre style=\"white-space:pre;overflow-x:auto;line-height:normal;font-family:Menlo,'DejaVu Sans Mono',consolas,'Courier New',monospace\">  - <span style=\"color: #800000; text-decoration-color: #800000\">GWTiger</span> <span style=\"font-weight: bold\">(</span>Artillery<span style=\"font-weight: bold\">)</span> - DESTROYED\n",
       "</pre>\n"
      ],
      "text/plain": [
       "  - \u001b[31mGWTiger\u001b[0m \u001b[1m(\u001b[0mArtillery\u001b[1m)\u001b[0m - DESTROYED\n"
      ]
     },
     "metadata": {},
     "output_type": "display_data"
    },
    {
     "data": {
      "text/html": [
       "<pre style=\"white-space:pre;overflow-x:auto;line-height:normal;font-family:Menlo,'DejaVu Sans Mono',consolas,'Courier New',monospace\">Team Blue:\n",
       "</pre>\n"
      ],
      "text/plain": [
       "Team Blue:\n"
      ]
     },
     "metadata": {},
     "output_type": "display_data"
    },
    {
     "data": {
      "text/html": [
       "<pre style=\"white-space:pre;overflow-x:auto;line-height:normal;font-family:Menlo,'DejaVu Sans Mono',consolas,'Courier New',monospace\">  - <span style=\"color: #000080; text-decoration-color: #000080\">Tiger1</span> <span style=\"font-weight: bold\">(</span>Heavy<span style=\"font-weight: bold\">)</span> - DESTROYED\n",
       "</pre>\n"
      ],
      "text/plain": [
       "  - \u001b[34mTiger1\u001b[0m \u001b[1m(\u001b[0mHeavy\u001b[1m)\u001b[0m - DESTROYED\n"
      ]
     },
     "metadata": {},
     "output_type": "display_data"
    },
    {
     "data": {
      "text/html": [
       "<pre style=\"white-space:pre;overflow-x:auto;line-height:normal;font-family:Menlo,'DejaVu Sans Mono',consolas,'Courier New',monospace\">  - <span style=\"color: #000080; text-decoration-color: #000080\">212A</span> <span style=\"font-weight: bold\">(</span>Artillery<span style=\"font-weight: bold\">)</span> - DESTROYED\n",
       "</pre>\n"
      ],
      "text/plain": [
       "  - \u001b[34m212A\u001b[0m \u001b[1m(\u001b[0mArtillery\u001b[1m)\u001b[0m - DESTROYED\n"
      ]
     },
     "metadata": {},
     "output_type": "display_data"
    },
    {
     "data": {
      "text/html": [
       "<pre style=\"white-space:pre;overflow-x:auto;line-height:normal;font-family:Menlo,'DejaVu Sans Mono',consolas,'Courier New',monospace\">  - <span style=\"color: #000080; text-decoration-color: #000080\">Tiger1</span> <span style=\"font-weight: bold\">(</span>Heavy<span style=\"font-weight: bold\">)</span> - DESTROYED\n",
       "</pre>\n"
      ],
      "text/plain": [
       "  - \u001b[34mTiger1\u001b[0m \u001b[1m(\u001b[0mHeavy\u001b[1m)\u001b[0m - DESTROYED\n"
      ]
     },
     "metadata": {},
     "output_type": "display_data"
    },
    {
     "data": {
      "text/html": [
       "<pre style=\"white-space:pre;overflow-x:auto;line-height:normal;font-family:Menlo,'DejaVu Sans Mono',consolas,'Courier New',monospace\">  - <span style=\"color: #000080; text-decoration-color: #000080\">T62A</span> <span style=\"font-weight: bold\">(</span>Medium Tank<span style=\"font-weight: bold\">)</span> - DESTROYED\n",
       "</pre>\n"
      ],
      "text/plain": [
       "  - \u001b[34mT62A\u001b[0m \u001b[1m(\u001b[0mMedium Tank\u001b[1m)\u001b[0m - DESTROYED\n"
      ]
     },
     "metadata": {},
     "output_type": "display_data"
    },
    {
     "data": {
      "text/html": [
       "<pre style=\"white-space:pre;overflow-x:auto;line-height:normal;font-family:Menlo,'DejaVu Sans Mono',consolas,'Courier New',monospace\">  - <span style=\"color: #000080; text-decoration-color: #000080\">212A</span> <span style=\"font-weight: bold\">(</span>Artillery<span style=\"font-weight: bold\">)</span> - DESTROYED\n",
       "</pre>\n"
      ],
      "text/plain": [
       "  - \u001b[34m212A\u001b[0m \u001b[1m(\u001b[0mArtillery\u001b[1m)\u001b[0m - DESTROYED\n"
      ]
     },
     "metadata": {},
     "output_type": "display_data"
    }
   ],
   "source": [
    "import random\n",
    "from enum import StrEnum\n",
    "from typing import Self\n",
    "from rich import print as rprint\n",
    "\n",
    "class TanksTypes(StrEnum):\n",
    "    HEAVY = \"Heavy\"\n",
    "    LT = \"Light Tank\"\n",
    "    MT = \"Medium Tank\"\n",
    "    TD = \"Tank Destroyer\"\n",
    "    ART = \"Artillery\"\n",
    "\n",
    "class Tank():\n",
    "    def __init__(self, name: str, hp: int, maxhp: int, team_color: str = \"white\"):\n",
    "        self.name = name\n",
    "        self.hp = hp\n",
    "        self.maxhp = maxhp\n",
    "        self.team_color = team_color\n",
    "        \n",
    "        types = {\n",
    "            \"IS\": TanksTypes.HEAVY, \"Tiger1\": TanksTypes.HEAVY,\n",
    "            \"RU251\": TanksTypes.LT, \"T54Light\": TanksTypes.LT,\n",
    "            \"Leopard\": TanksTypes.MT, \"T62A\": TanksTypes.MT,\n",
    "            \"Ferdinand\": TanksTypes.TD, \"SU152\": TanksTypes.TD,\n",
    "            \"GWTiger\": TanksTypes.ART, \"212A\": TanksTypes.ART,\n",
    "        }\n",
    "        self.tank_type = types[name]\n",
    "        \n",
    "    def colored_str(self):\n",
    "        status = \"DESTROYED\" if self.hp <= 0 else f\"{self.hp} HP\"\n",
    "        return f\"[{self.team_color}]{self.name}[/] ({self.tank_type}) - {status}\"\n",
    "\n",
    "    def attack(self, other: \"Tank\") -> bool:\n",
    "        ranges = {\n",
    "            TanksTypes.HEAVY: (30, 50),\n",
    "            TanksTypes.LT: (20, 35),\n",
    "            TanksTypes.MT: (25, 45),\n",
    "            TanksTypes.TD: (35, 60),\n",
    "            TanksTypes.ART: (20, 30),\n",
    "        }\n",
    "        \n",
    "        min_damage, max_damage = ranges[self.tank_type]\n",
    "        damage = random.randint(min_damage, max_damage)\n",
    "        print(f\"{self.name} attacks {other.name} for {damage} damage!\")\n",
    "        other.hp -= damage\n",
    "        if other.hp <= 0:\n",
    "            other.hp = 0\n",
    "            self.hp = min(self.hp + 10, self.maxhp)\n",
    "            print(f\"{other.name} has been destroyed by {self.name}!\")\n",
    "            return True\n",
    "        return False\n",
    "\n",
    "class Team():\n",
    "    def __init__(self, name: str, size: int = 5):\n",
    "        self.name = name\n",
    "        self.tanks = []\n",
    "        tank_names = [\n",
    "            \"IS\", \"Tiger1\", \"RU251\", \"T54Light\", \n",
    "            \"Leopard\", \"T62A\", \"Ferdinand\", \"SU152\", \n",
    "            \"GWTiger\", \"212A\"\n",
    "        ]\n",
    "        color = \"red\" if name == \"Red\" else \"blue\" if name == \"Blue\" else \"white\"\n",
    "        \n",
    "        for _ in range(size):\n",
    "            tank_name = random.choice(tank_names)\n",
    "            tank_hp = random.randint(100, 150)\n",
    "            tank = Tank(name=tank_name, hp=tank_hp, maxhp=tank_hp, team_color=color)\n",
    "            self.tanks.append(tank)\n",
    "            \n",
    "    def print_team(self):\n",
    "        rprint(f\"Team {self.name}:\")\n",
    "        for tank in self.tanks:\n",
    "            rprint(f\"  - {tank.colored_str()}\")\n",
    "            \n",
    "    def get_alive_tanks(self):\n",
    "        return [tank for tank in self.tanks if tank.hp > 0]\n",
    "    \n",
    "    def is_defeated(self):\n",
    "        return len(self.get_alive_tanks()) == 0\n",
    "    \n",
    "    def attack(self, other_team: \"Team\"):\n",
    "        attackers = self.get_alive_tanks()\n",
    "        defenders = other_team.get_alive_tanks()\n",
    "        if not attackers or not defenders:\n",
    "            return\n",
    "        attacker = random.choice(attackers)\n",
    "        defender = random.choice(defenders)\n",
    "        attacker.attack(defender)\n",
    "        \n",
    "team1 = Team(\"Red\")\n",
    "team2 = Team(\"Blue\")\n",
    "\n",
    "rprint(\"--- Teams ---\")\n",
    "team1.print_team()\n",
    "team2.print_team()\n",
    "\n",
    "round_counter = 1\n",
    "while not team1.is_defeated() and not team2.is_defeated():\n",
    "    rprint(f\"\\n--- Round {round_counter} ---\")\n",
    "    team1.attack(team2)\n",
    "    if team2.is_defeated():\n",
    "        break\n",
    "    team2.attack(team1)\n",
    "    round_counter += 1\n",
    "    \n",
    "rprint(\"\\n--- Battle Over ---\")\n",
    "if team1.is_defeated():\n",
    "    rprint(\"Team Blue wins!\")    \n",
    "else:\n",
    "    rprint(\"Team Red wins!\")\n",
    "    \n",
    "rprint(\"\\nFinal Teams Status:\")\n",
    "team1.print_team()  \n",
    "team2.print_team()"
   ]
  }
 ],
 "metadata": {
  "kernelspec": {
   "display_name": "test",
   "language": "python",
   "name": "python3"
  },
  "language_info": {
   "codemirror_mode": {
    "name": "ipython",
    "version": 3
   },
   "file_extension": ".py",
   "mimetype": "text/x-python",
   "name": "python",
   "nbconvert_exporter": "python",
   "pygments_lexer": "ipython3",
   "version": "3.12.3"
  }
 },
 "nbformat": 4,
 "nbformat_minor": 5
}
