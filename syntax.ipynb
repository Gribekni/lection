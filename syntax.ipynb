{
 "cells": [
  {
   "cell_type": "markdown",
   "metadata": {
    "id": "HBE2ssAQvGSS"
   },
   "source": [
    "# Cинтаксический анализ текста\n",
    "\n",
    "Синтаксический анализ текста на русском языке с использованием библиотек:\n",
    "- [spaCy](https://spacy.io).\n",
    "- [Natasha](https://github.com/natasha/natasha)."
   ]
  },
  {
   "cell_type": "code",
   "execution_count": 26,
   "metadata": {
    "executionInfo": {
     "elapsed": 45,
     "status": "ok",
     "timestamp": 1760167486918,
     "user": {
      "displayName": "Максим Чавычалов",
      "userId": "09252385745420941792"
     },
     "user_tz": -180
    },
    "id": "DY_j80Ti4ijh"
   },
   "outputs": [],
   "source": [
    "import spacy\n",
    "from spacy import displacy"
   ]
  },
  {
   "cell_type": "markdown",
   "metadata": {
    "id": "4W1WXu_KJqF3"
   },
   "source": [
    "## Библиотека spaCy"
   ]
  },
  {
   "cell_type": "code",
   "execution_count": 27,
   "metadata": {
    "colab": {
     "base_uri": "https://localhost:8080/"
    },
    "executionInfo": {
     "elapsed": 13718,
     "status": "ok",
     "timestamp": 1760167524008,
     "user": {
      "displayName": "Максим Чавычалов",
      "userId": "09252385745420941792"
     },
     "user_tz": -180
    },
    "id": "jtCrjk_H41bI",
    "outputId": "16a03971-a9a9-4314-ece9-ae55f82fd668"
   },
   "outputs": [
    {
     "name": "stdout",
     "output_type": "stream",
     "text": [
      "Collecting ru-core-news-sm==3.8.0\n",
      "  Downloading https://github.com/explosion/spacy-models/releases/download/ru_core_news_sm-3.8.0/ru_core_news_sm-3.8.0-py3-none-any.whl (15.3 MB)\n",
      "\u001b[2K     \u001b[90m━━━━━━━━━━━━━━━━━━━━━━━━━━━━━━━━━━━━━━━━\u001b[0m \u001b[32m15.3/15.3 MB\u001b[0m \u001b[31m8.9 MB/s\u001b[0m  \u001b[33m0:00:01\u001b[0m eta \u001b[36m0:00:01\u001b[0m\n",
      "\u001b[?25hRequirement already satisfied: pymorphy3>=1.0.0 in ./.venv/lib/python3.12/site-packages (from ru-core-news-sm==3.8.0) (2.0.5)\n",
      "Requirement already satisfied: dawg2-python>=0.8.0 in ./.venv/lib/python3.12/site-packages (from pymorphy3>=1.0.0->ru-core-news-sm==3.8.0) (0.9.0)\n",
      "Requirement already satisfied: pymorphy3-dicts-ru in ./.venv/lib/python3.12/site-packages (from pymorphy3>=1.0.0->ru-core-news-sm==3.8.0) (2.4.417150.4580142)\n",
      "Requirement already satisfied: setuptools>=68.2.2 in ./.venv/lib/python3.12/site-packages (from pymorphy3>=1.0.0->ru-core-news-sm==3.8.0) (80.9.0)\n",
      "\u001b[38;5;2m✔ Download and installation successful\u001b[0m\n",
      "You can now load the package via spacy.load('ru_core_news_sm')\n"
     ]
    }
   ],
   "source": [
    "!python -m spacy download ru_core_news_sm\n",
    "nlp = spacy.load('ru_core_news_sm')"
   ]
  },
  {
   "cell_type": "code",
   "execution_count": 28,
   "metadata": {
    "executionInfo": {
     "elapsed": 48,
     "status": "ok",
     "timestamp": 1760168579112,
     "user": {
      "displayName": "Максим Чавычалов",
      "userId": "09252385745420941792"
     },
     "user_tz": -180
    },
    "id": "I0jIJaWA42qS"
   },
   "outputs": [],
   "source": [
    "text = \"Тощая торговка вяленой воблой торчала среди ящеров\"#\"Глокая куздра штеко будланула бокра и кудрячит бокрёнка\"#\"Как ныне сбирается Вещий Олег отмстить неразумным хазарам\"#"
   ]
  },
  {
   "cell_type": "code",
   "execution_count": 29,
   "metadata": {
    "executionInfo": {
     "elapsed": 13,
     "status": "ok",
     "timestamp": 1760168580169,
     "user": {
      "displayName": "Максим Чавычалов",
      "userId": "09252385745420941792"
     },
     "user_tz": -180
    },
    "id": "cYRqhqv94yo-"
   },
   "outputs": [],
   "source": [
    "doc = nlp(text)"
   ]
  },
  {
   "cell_type": "code",
   "execution_count": 30,
   "metadata": {
    "colab": {
     "base_uri": "https://localhost:8080/"
    },
    "executionInfo": {
     "elapsed": 14,
     "status": "ok",
     "timestamp": 1760168580928,
     "user": {
      "displayName": "Максим Чавычалов",
      "userId": "09252385745420941792"
     },
     "user_tz": -180
    },
    "id": "acNtfzIK49CI",
    "outputId": "c86297d7-64df-49ec-f434-7744720de9f0"
   },
   "outputs": [
    {
     "name": "stdout",
     "output_type": "stream",
     "text": [
      "Тощая VERB amod\n",
      "торговка NOUN nsubj\n",
      "вяленой ADJ amod\n",
      "воблой NOUN nmod\n",
      "торчала VERB ROOT\n",
      "среди ADP case\n",
      "ящеров NOUN obl\n"
     ]
    }
   ],
   "source": [
    "for token in doc:\n",
    "    print(token.text, token.pos_, token.dep_)"
   ]
  },
  {
   "cell_type": "code",
   "execution_count": 31,
   "metadata": {
    "colab": {
     "base_uri": "https://localhost:8080/",
     "height": 528
    },
    "executionInfo": {
     "elapsed": 26,
     "status": "ok",
     "timestamp": 1760168582600,
     "user": {
      "displayName": "Максим Чавычалов",
      "userId": "09252385745420941792"
     },
     "user_tz": -180
    },
    "id": "JrXoY9rP5Kph",
    "outputId": "ce396d50-1e87-4dd2-e65d-243090ddeb1d"
   },
   "outputs": [
    {
     "data": {
      "text/html": [
       "<svg xmlns=\"http://www.w3.org/2000/svg\" xmlns:xlink=\"http://www.w3.org/1999/xlink\" xml:lang=\"ru\" id=\"aa31c83e4395443581b4c334ef80c445-0\" class=\"displacy\" width=\"1275\" height=\"399.5\" direction=\"ltr\" style=\"max-width: none; height: 399.5px; color: #000000; background: #ffffff; font-family: Arial; direction: ltr\">\n",
       "<text class=\"displacy-token\" fill=\"currentColor\" text-anchor=\"middle\" y=\"309.5\">\n",
       "    <tspan class=\"displacy-word\" fill=\"currentColor\" x=\"50\">Тощая</tspan>\n",
       "    <tspan class=\"displacy-tag\" dy=\"2em\" fill=\"currentColor\" x=\"50\">VERB</tspan>\n",
       "</text>\n",
       "\n",
       "<text class=\"displacy-token\" fill=\"currentColor\" text-anchor=\"middle\" y=\"309.5\">\n",
       "    <tspan class=\"displacy-word\" fill=\"currentColor\" x=\"225\">торговка</tspan>\n",
       "    <tspan class=\"displacy-tag\" dy=\"2em\" fill=\"currentColor\" x=\"225\">NOUN</tspan>\n",
       "</text>\n",
       "\n",
       "<text class=\"displacy-token\" fill=\"currentColor\" text-anchor=\"middle\" y=\"309.5\">\n",
       "    <tspan class=\"displacy-word\" fill=\"currentColor\" x=\"400\">вяленой</tspan>\n",
       "    <tspan class=\"displacy-tag\" dy=\"2em\" fill=\"currentColor\" x=\"400\">ADJ</tspan>\n",
       "</text>\n",
       "\n",
       "<text class=\"displacy-token\" fill=\"currentColor\" text-anchor=\"middle\" y=\"309.5\">\n",
       "    <tspan class=\"displacy-word\" fill=\"currentColor\" x=\"575\">воблой</tspan>\n",
       "    <tspan class=\"displacy-tag\" dy=\"2em\" fill=\"currentColor\" x=\"575\">NOUN</tspan>\n",
       "</text>\n",
       "\n",
       "<text class=\"displacy-token\" fill=\"currentColor\" text-anchor=\"middle\" y=\"309.5\">\n",
       "    <tspan class=\"displacy-word\" fill=\"currentColor\" x=\"750\">торчала</tspan>\n",
       "    <tspan class=\"displacy-tag\" dy=\"2em\" fill=\"currentColor\" x=\"750\">VERB</tspan>\n",
       "</text>\n",
       "\n",
       "<text class=\"displacy-token\" fill=\"currentColor\" text-anchor=\"middle\" y=\"309.5\">\n",
       "    <tspan class=\"displacy-word\" fill=\"currentColor\" x=\"925\">среди</tspan>\n",
       "    <tspan class=\"displacy-tag\" dy=\"2em\" fill=\"currentColor\" x=\"925\">ADP</tspan>\n",
       "</text>\n",
       "\n",
       "<text class=\"displacy-token\" fill=\"currentColor\" text-anchor=\"middle\" y=\"309.5\">\n",
       "    <tspan class=\"displacy-word\" fill=\"currentColor\" x=\"1100\">ящеров</tspan>\n",
       "    <tspan class=\"displacy-tag\" dy=\"2em\" fill=\"currentColor\" x=\"1100\">NOUN</tspan>\n",
       "</text>\n",
       "\n",
       "<g class=\"displacy-arrow\">\n",
       "    <path class=\"displacy-arc\" id=\"arrow-aa31c83e4395443581b4c334ef80c445-0-0\" stroke-width=\"2px\" d=\"M70,264.5 C70,177.0 215.0,177.0 215.0,264.5\" fill=\"none\" stroke=\"currentColor\"/>\n",
       "    <text dy=\"1.25em\" style=\"font-size: 0.8em; letter-spacing: 1px\">\n",
       "        <textPath xlink:href=\"#arrow-aa31c83e4395443581b4c334ef80c445-0-0\" class=\"displacy-label\" startOffset=\"50%\" side=\"left\" fill=\"currentColor\" text-anchor=\"middle\">amod</textPath>\n",
       "    </text>\n",
       "    <path class=\"displacy-arrowhead\" d=\"M70,266.5 L62,254.5 78,254.5\" fill=\"currentColor\"/>\n",
       "</g>\n",
       "\n",
       "<g class=\"displacy-arrow\">\n",
       "    <path class=\"displacy-arc\" id=\"arrow-aa31c83e4395443581b4c334ef80c445-0-1\" stroke-width=\"2px\" d=\"M245,264.5 C245,2.0 750.0,2.0 750.0,264.5\" fill=\"none\" stroke=\"currentColor\"/>\n",
       "    <text dy=\"1.25em\" style=\"font-size: 0.8em; letter-spacing: 1px\">\n",
       "        <textPath xlink:href=\"#arrow-aa31c83e4395443581b4c334ef80c445-0-1\" class=\"displacy-label\" startOffset=\"50%\" side=\"left\" fill=\"currentColor\" text-anchor=\"middle\">nsubj</textPath>\n",
       "    </text>\n",
       "    <path class=\"displacy-arrowhead\" d=\"M245,266.5 L237,254.5 253,254.5\" fill=\"currentColor\"/>\n",
       "</g>\n",
       "\n",
       "<g class=\"displacy-arrow\">\n",
       "    <path class=\"displacy-arc\" id=\"arrow-aa31c83e4395443581b4c334ef80c445-0-2\" stroke-width=\"2px\" d=\"M420,264.5 C420,177.0 565.0,177.0 565.0,264.5\" fill=\"none\" stroke=\"currentColor\"/>\n",
       "    <text dy=\"1.25em\" style=\"font-size: 0.8em; letter-spacing: 1px\">\n",
       "        <textPath xlink:href=\"#arrow-aa31c83e4395443581b4c334ef80c445-0-2\" class=\"displacy-label\" startOffset=\"50%\" side=\"left\" fill=\"currentColor\" text-anchor=\"middle\">amod</textPath>\n",
       "    </text>\n",
       "    <path class=\"displacy-arrowhead\" d=\"M420,266.5 L412,254.5 428,254.5\" fill=\"currentColor\"/>\n",
       "</g>\n",
       "\n",
       "<g class=\"displacy-arrow\">\n",
       "    <path class=\"displacy-arc\" id=\"arrow-aa31c83e4395443581b4c334ef80c445-0-3\" stroke-width=\"2px\" d=\"M245,264.5 C245,89.5 570.0,89.5 570.0,264.5\" fill=\"none\" stroke=\"currentColor\"/>\n",
       "    <text dy=\"1.25em\" style=\"font-size: 0.8em; letter-spacing: 1px\">\n",
       "        <textPath xlink:href=\"#arrow-aa31c83e4395443581b4c334ef80c445-0-3\" class=\"displacy-label\" startOffset=\"50%\" side=\"left\" fill=\"currentColor\" text-anchor=\"middle\">nmod</textPath>\n",
       "    </text>\n",
       "    <path class=\"displacy-arrowhead\" d=\"M570.0,266.5 L578.0,254.5 562.0,254.5\" fill=\"currentColor\"/>\n",
       "</g>\n",
       "\n",
       "<g class=\"displacy-arrow\">\n",
       "    <path class=\"displacy-arc\" id=\"arrow-aa31c83e4395443581b4c334ef80c445-0-4\" stroke-width=\"2px\" d=\"M945,264.5 C945,177.0 1090.0,177.0 1090.0,264.5\" fill=\"none\" stroke=\"currentColor\"/>\n",
       "    <text dy=\"1.25em\" style=\"font-size: 0.8em; letter-spacing: 1px\">\n",
       "        <textPath xlink:href=\"#arrow-aa31c83e4395443581b4c334ef80c445-0-4\" class=\"displacy-label\" startOffset=\"50%\" side=\"left\" fill=\"currentColor\" text-anchor=\"middle\">case</textPath>\n",
       "    </text>\n",
       "    <path class=\"displacy-arrowhead\" d=\"M945,266.5 L937,254.5 953,254.5\" fill=\"currentColor\"/>\n",
       "</g>\n",
       "\n",
       "<g class=\"displacy-arrow\">\n",
       "    <path class=\"displacy-arc\" id=\"arrow-aa31c83e4395443581b4c334ef80c445-0-5\" stroke-width=\"2px\" d=\"M770,264.5 C770,89.5 1095.0,89.5 1095.0,264.5\" fill=\"none\" stroke=\"currentColor\"/>\n",
       "    <text dy=\"1.25em\" style=\"font-size: 0.8em; letter-spacing: 1px\">\n",
       "        <textPath xlink:href=\"#arrow-aa31c83e4395443581b4c334ef80c445-0-5\" class=\"displacy-label\" startOffset=\"50%\" side=\"left\" fill=\"currentColor\" text-anchor=\"middle\">obl</textPath>\n",
       "    </text>\n",
       "    <path class=\"displacy-arrowhead\" d=\"M1095.0,266.5 L1103.0,254.5 1087.0,254.5\" fill=\"currentColor\"/>\n",
       "</g>\n",
       "</svg>"
      ],
      "text/plain": [
       "<IPython.core.display.HTML object>"
      ]
     },
     "metadata": {},
     "output_type": "display_data"
    }
   ],
   "source": [
    "from spacy import displacy\n",
    "\n",
    "# получаем HTML-строку (не просим displacy использовать jupyter=True)\n",
    "html = displacy.render(doc, style=\"dep\", jupyter=False)\n",
    "\n",
    "# корректный импорт display/HTML из IPython (работает в ноутбуке)\n",
    "from IPython.display import HTML, display\n",
    "display(HTML(html))"
   ]
  },
  {
   "cell_type": "code",
   "execution_count": 32,
   "metadata": {
    "colab": {
     "base_uri": "https://localhost:8080/"
    },
    "executionInfo": {
     "elapsed": 762,
     "status": "ok",
     "timestamp": 1760168093771,
     "user": {
      "displayName": "Максим Чавычалов",
      "userId": "09252385745420941792"
     },
     "user_tz": -180
    },
    "id": "1PiyDzVYotb2",
    "outputId": "c56495bb-5618-49e5-ffaa-571bd8f420aa"
   },
   "outputs": [
    {
     "ename": "OSError",
     "evalue": "[E050] Can't find model 'en_core_web_sm'. It doesn't seem to be a Python package or a valid path to a data directory.",
     "output_type": "error",
     "traceback": [
      "\u001b[31m---------------------------------------------------------------------------\u001b[39m",
      "\u001b[31mOSError\u001b[39m                                   Traceback (most recent call last)",
      "\u001b[36mCell\u001b[39m\u001b[36m \u001b[39m\u001b[32mIn[32]\u001b[39m\u001b[32m, line 1\u001b[39m\n\u001b[32m----> \u001b[39m\u001b[32m1\u001b[39m nlp = \u001b[43mspacy\u001b[49m\u001b[43m.\u001b[49m\u001b[43mload\u001b[49m\u001b[43m(\u001b[49m\u001b[33;43m'\u001b[39;49m\u001b[33;43men_core_web_sm\u001b[39;49m\u001b[33;43m'\u001b[39;49m\u001b[43m)\u001b[49m\n\u001b[32m      2\u001b[39m doc1 = nlp(\u001b[33mu\u001b[39m\u001b[33m'\u001b[39m\u001b[33mWe can overtake them.\u001b[39m\u001b[33m'\u001b[39m)\n\u001b[32m      3\u001b[39m doc2 = nlp(\u001b[33mu\u001b[39m\u001b[33m'\u001b[39m\u001b[33mYou must specify it.\u001b[39m\u001b[33m'\u001b[39m)\n",
      "\u001b[36mFile \u001b[39m\u001b[32m~/Downloads/test/.venv/lib/python3.12/site-packages/spacy/__init__.py:52\u001b[39m, in \u001b[36mload\u001b[39m\u001b[34m(name, vocab, disable, enable, exclude, config)\u001b[39m\n\u001b[32m     28\u001b[39m \u001b[38;5;28;01mdef\u001b[39;00m\u001b[38;5;250m \u001b[39m\u001b[34mload\u001b[39m(\n\u001b[32m     29\u001b[39m     name: Union[\u001b[38;5;28mstr\u001b[39m, Path],\n\u001b[32m     30\u001b[39m     *,\n\u001b[32m   (...)\u001b[39m\u001b[32m     35\u001b[39m     config: Union[Dict[\u001b[38;5;28mstr\u001b[39m, Any], Config] = util.SimpleFrozenDict(),\n\u001b[32m     36\u001b[39m ) -> Language:\n\u001b[32m     37\u001b[39m \u001b[38;5;250m    \u001b[39m\u001b[33;03m\"\"\"Load a spaCy model from an installed package or a local path.\u001b[39;00m\n\u001b[32m     38\u001b[39m \n\u001b[32m     39\u001b[39m \u001b[33;03m    name (str): Package name or model path.\u001b[39;00m\n\u001b[32m   (...)\u001b[39m\u001b[32m     50\u001b[39m \u001b[33;03m    RETURNS (Language): The loaded nlp object.\u001b[39;00m\n\u001b[32m     51\u001b[39m \u001b[33;03m    \"\"\"\u001b[39;00m\n\u001b[32m---> \u001b[39m\u001b[32m52\u001b[39m     \u001b[38;5;28;01mreturn\u001b[39;00m \u001b[43mutil\u001b[49m\u001b[43m.\u001b[49m\u001b[43mload_model\u001b[49m\u001b[43m(\u001b[49m\n\u001b[32m     53\u001b[39m \u001b[43m        \u001b[49m\u001b[43mname\u001b[49m\u001b[43m,\u001b[49m\n\u001b[32m     54\u001b[39m \u001b[43m        \u001b[49m\u001b[43mvocab\u001b[49m\u001b[43m=\u001b[49m\u001b[43mvocab\u001b[49m\u001b[43m,\u001b[49m\n\u001b[32m     55\u001b[39m \u001b[43m        \u001b[49m\u001b[43mdisable\u001b[49m\u001b[43m=\u001b[49m\u001b[43mdisable\u001b[49m\u001b[43m,\u001b[49m\n\u001b[32m     56\u001b[39m \u001b[43m        \u001b[49m\u001b[43menable\u001b[49m\u001b[43m=\u001b[49m\u001b[43menable\u001b[49m\u001b[43m,\u001b[49m\n\u001b[32m     57\u001b[39m \u001b[43m        \u001b[49m\u001b[43mexclude\u001b[49m\u001b[43m=\u001b[49m\u001b[43mexclude\u001b[49m\u001b[43m,\u001b[49m\n\u001b[32m     58\u001b[39m \u001b[43m        \u001b[49m\u001b[43mconfig\u001b[49m\u001b[43m=\u001b[49m\u001b[43mconfig\u001b[49m\u001b[43m,\u001b[49m\n\u001b[32m     59\u001b[39m \u001b[43m    \u001b[49m\u001b[43m)\u001b[49m\n",
      "\u001b[36mFile \u001b[39m\u001b[32m~/Downloads/test/.venv/lib/python3.12/site-packages/spacy/util.py:484\u001b[39m, in \u001b[36mload_model\u001b[39m\u001b[34m(name, vocab, disable, enable, exclude, config)\u001b[39m\n\u001b[32m    482\u001b[39m \u001b[38;5;28;01mif\u001b[39;00m name \u001b[38;5;129;01min\u001b[39;00m OLD_MODEL_SHORTCUTS:\n\u001b[32m    483\u001b[39m     \u001b[38;5;28;01mraise\u001b[39;00m \u001b[38;5;167;01mIOError\u001b[39;00m(Errors.E941.format(name=name, full=OLD_MODEL_SHORTCUTS[name]))  \u001b[38;5;66;03m# type: ignore[index]\u001b[39;00m\n\u001b[32m--> \u001b[39m\u001b[32m484\u001b[39m \u001b[38;5;28;01mraise\u001b[39;00m \u001b[38;5;167;01mIOError\u001b[39;00m(Errors.E050.format(name=name))\n",
      "\u001b[31mOSError\u001b[39m: [E050] Can't find model 'en_core_web_sm'. It doesn't seem to be a Python package or a valid path to a data directory."
     ]
    }
   ],
   "source": [
    "nlp = spacy.load('en_core_web_sm')\n",
    "doc1 = nlp(u'We can overtake them.')\n",
    "doc2 = nlp(u'You must specify it.')\n",
    "for i in range(len(doc1)-1):\n",
    "    if doc1[i].dep_ == doc2[i].dep_:\n",
    "        print(doc1[i].text,'\\t', doc2[i].text, '\\t', doc1[i].dep_, spacy.explain(doc1[i].dep_))"
   ]
  },
  {
   "cell_type": "markdown",
   "metadata": {
    "id": "c0trYWfOJzG8"
   },
   "source": [
    "## Библиотека natasha"
   ]
  },
  {
   "cell_type": "code",
   "execution_count": null,
   "metadata": {
    "colab": {
     "base_uri": "https://localhost:8080/"
    },
    "executionInfo": {
     "elapsed": 7699,
     "status": "ok",
     "timestamp": 1760168151448,
     "user": {
      "displayName": "Максим Чавычалов",
      "userId": "09252385745420941792"
     },
     "user_tz": -180
    },
    "id": "TpTGxFhyvTQQ",
    "outputId": "9df46471-b7ae-4f98-c645-d77a9b7f0dd4"
   },
   "outputs": [
    {
     "name": "stdout",
     "output_type": "stream",
     "text": [
      "Collecting natasha\n",
      "  Downloading natasha-1.6.0-py3-none-any.whl.metadata (23 kB)\n",
      "Requirement already satisfied: pymorphy2 in ./.venv/lib/python3.12/site-packages (from natasha) (0.9.1)\n",
      "Collecting razdel>=0.5.0 (from natasha)\n",
      "  Downloading razdel-0.5.0-py3-none-any.whl.metadata (10.0 kB)\n",
      "Collecting navec>=0.9.0 (from natasha)\n",
      "  Downloading navec-0.10.0-py3-none-any.whl.metadata (21 kB)\n",
      "Collecting slovnet>=0.6.0 (from natasha)\n",
      "  Downloading slovnet-0.6.0-py3-none-any.whl.metadata (34 kB)\n",
      "Collecting yargy>=0.16.0 (from natasha)\n",
      "  Downloading yargy-0.16.0-py3-none-any.whl.metadata (3.5 kB)\n",
      "Collecting ipymarkup>=0.8.0 (from natasha)\n",
      "  Downloading ipymarkup-0.9.0-py3-none-any.whl.metadata (5.6 kB)\n",
      "Collecting intervaltree>=3 (from ipymarkup>=0.8.0->natasha)\n",
      "  Downloading intervaltree-3.1.0.tar.gz (32 kB)\n",
      "  Installing build dependencies ... \u001b[?25ldone\n",
      "\u001b[?25h  Getting requirements to build wheel ... \u001b[?25ldone\n",
      "\u001b[?25h  Preparing metadata (pyproject.toml) ... \u001b[?25ldone\n",
      "\u001b[?25hCollecting sortedcontainers<3.0,>=2.0 (from intervaltree>=3->ipymarkup>=0.8.0->natasha)\n",
      "  Downloading sortedcontainers-2.4.0-py2.py3-none-any.whl.metadata (10 kB)\n",
      "Requirement already satisfied: numpy in ./.venv/lib/python3.12/site-packages (from navec>=0.9.0->natasha) (2.3.3)\n",
      "Requirement already satisfied: dawg-python>=0.7.1 in ./.venv/lib/python3.12/site-packages (from pymorphy2->natasha) (0.7.2)\n",
      "Requirement already satisfied: pymorphy2-dicts-ru<3.0,>=2.4 in ./.venv/lib/python3.12/site-packages (from pymorphy2->natasha) (2.4.417127.4579844)\n",
      "Requirement already satisfied: docopt>=0.6 in ./.venv/lib/python3.12/site-packages (from pymorphy2->natasha) (0.6.2)\n",
      "Downloading natasha-1.6.0-py3-none-any.whl (34.4 MB)\n",
      "\u001b[2K   \u001b[90m━━━━━━━━━━━━━━━━━━━━━━━━━━━━━━━━━━━━━━━━\u001b[0m \u001b[32m34.4/34.4 MB\u001b[0m \u001b[31m13.4 MB/s\u001b[0m  \u001b[33m0:00:02\u001b[0mm0:00:01\u001b[0m00:01\u001b[0m\n",
      "\u001b[?25hDownloading ipymarkup-0.9.0-py3-none-any.whl (14 kB)\n",
      "Downloading sortedcontainers-2.4.0-py2.py3-none-any.whl (29 kB)\n",
      "Downloading navec-0.10.0-py3-none-any.whl (23 kB)\n",
      "Downloading razdel-0.5.0-py3-none-any.whl (21 kB)\n",
      "Downloading slovnet-0.6.0-py3-none-any.whl (46 kB)\n",
      "Downloading yargy-0.16.0-py3-none-any.whl (33 kB)\n",
      "Building wheels for collected packages: intervaltree\n",
      "  Building wheel for intervaltree (pyproject.toml) ... \u001b[?25ldone\n",
      "\u001b[?25h  Created wheel for intervaltree: filename=intervaltree-3.1.0-py2.py3-none-any.whl size=26190 sha256=ebbfaa23b3f0ff8b75f3282a117377cc2af94d51276e4b11f6a63c311b7fdc22\n",
      "  Stored in directory: /home/roman/.cache/pip/wheels/65/c3/c3/238bf93c243597857edd94ddb0577faa74a8e16e9585896e83\n",
      "Successfully built intervaltree\n",
      "Installing collected packages: sortedcontainers, razdel, navec, intervaltree, yargy, slovnet, ipymarkup, natasha\n",
      "\u001b[2K   \u001b[90m━━━━━━━━━━━━━━━━━━━━━━━━━━━━━━━━━━━━━━━━\u001b[0m \u001b[32m8/8\u001b[0m [natasha]m7/8\u001b[0m [natasha]\n",
      "\u001b[1A\u001b[2KSuccessfully installed intervaltree-3.1.0 ipymarkup-0.9.0 natasha-1.6.0 navec-0.10.0 razdel-0.5.0 slovnet-0.6.0 sortedcontainers-2.4.0 yargy-0.16.0\n"
     ]
    }
   ],
   "source": [
    "!pip install natasha\n",
    "from natasha import Segmenter, NewsEmbedding, NewsSyntaxParser, Doc"
   ]
  },
  {
   "cell_type": "code",
   "execution_count": null,
   "metadata": {
    "executionInfo": {
     "elapsed": 588,
     "status": "ok",
     "timestamp": 1760168186497,
     "user": {
      "displayName": "Максим Чавычалов",
      "userId": "09252385745420941792"
     },
     "user_tz": -180
    },
    "id": "M0q6yF0rvagE"
   },
   "outputs": [],
   "source": [
    "emb = NewsEmbedding()"
   ]
  },
  {
   "cell_type": "code",
   "execution_count": null,
   "metadata": {
    "executionInfo": {
     "elapsed": 4,
     "status": "ok",
     "timestamp": 1760168191925,
     "user": {
      "displayName": "Максим Чавычалов",
      "userId": "09252385745420941792"
     },
     "user_tz": -180
    },
    "id": "mfDy99Ofwtdc"
   },
   "outputs": [],
   "source": [
    "segmenter = Segmenter()"
   ]
  },
  {
   "cell_type": "code",
   "execution_count": null,
   "metadata": {
    "executionInfo": {
     "elapsed": 190,
     "status": "ok",
     "timestamp": 1760168196756,
     "user": {
      "displayName": "Максим Чавычалов",
      "userId": "09252385745420941792"
     },
     "user_tz": -180
    },
    "id": "_dMVIC81vja7"
   },
   "outputs": [],
   "source": [
    "syntax_parser = NewsSyntaxParser(emb)"
   ]
  },
  {
   "cell_type": "code",
   "execution_count": null,
   "metadata": {
    "executionInfo": {
     "elapsed": 17,
     "status": "ok",
     "timestamp": 1760168608900,
     "user": {
      "displayName": "Максим Чавычалов",
      "userId": "09252385745420941792"
     },
     "user_tz": -180
    },
    "id": "45JzAE_bwCUX"
   },
   "outputs": [],
   "source": [
    "text = \"Тощая торговка вяленой воблой торчала среди ящеров\"#\"Глокая куздра штеко будланула бокра и кудрячит бокрёнка\"#'Владимир Смирнов застал Ахтема за игрой в настольный футбол на занятии'"
   ]
  },
  {
   "cell_type": "code",
   "execution_count": 33,
   "metadata": {
    "executionInfo": {
     "elapsed": 4,
     "status": "ok",
     "timestamp": 1760168610648,
     "user": {
      "displayName": "Максим Чавычалов",
      "userId": "09252385745420941792"
     },
     "user_tz": -180
    },
    "id": "RQGplpxdvmNU"
   },
   "outputs": [],
   "source": [
    "doc = Doc(text)"
   ]
  },
  {
   "cell_type": "code",
   "execution_count": 34,
   "metadata": {
    "executionInfo": {
     "elapsed": 15,
     "status": "ok",
     "timestamp": 1760168613963,
     "user": {
      "displayName": "Максим Чавычалов",
      "userId": "09252385745420941792"
     },
     "user_tz": -180
    },
    "id": "FzWE2Gmzwes1"
   },
   "outputs": [],
   "source": [
    "doc.segment(segmenter)"
   ]
  },
  {
   "cell_type": "code",
   "execution_count": 35,
   "metadata": {
    "colab": {
     "base_uri": "https://localhost:8080/"
    },
    "executionInfo": {
     "elapsed": 14,
     "status": "ok",
     "timestamp": 1760168615116,
     "user": {
      "displayName": "Максим Чавычалов",
      "userId": "09252385745420941792"
     },
     "user_tz": -180
    },
    "id": "gd80F2k_w1rN",
    "outputId": "70f23392-f489-43db-87c2-c38108691583"
   },
   "outputs": [
    {
     "name": "stdout",
     "output_type": "stream",
     "text": [
      "DocToken(stop=5, text='Тощая')\n",
      "DocToken(start=6, stop=14, text='торговка')\n",
      "DocToken(start=15, stop=22, text='вяленой')\n",
      "DocToken(start=23, stop=29, text='воблой')\n",
      "DocToken(start=30, stop=37, text='торчала')\n",
      "DocToken(start=38, stop=43, text='среди')\n",
      "DocToken(start=44, stop=50, text='ящеров')\n"
     ]
    }
   ],
   "source": [
    "for tocken in doc.tokens:\n",
    "    print(tocken)"
   ]
  },
  {
   "cell_type": "code",
   "execution_count": 36,
   "metadata": {
    "executionInfo": {
     "elapsed": 12,
     "status": "ok",
     "timestamp": 1760168617586,
     "user": {
      "displayName": "Максим Чавычалов",
      "userId": "09252385745420941792"
     },
     "user_tz": -180
    },
    "id": "9J58CtxxwTXT"
   },
   "outputs": [],
   "source": [
    "doc.parse_syntax(syntax_parser)"
   ]
  },
  {
   "cell_type": "code",
   "execution_count": 37,
   "metadata": {
    "colab": {
     "base_uri": "https://localhost:8080/"
    },
    "executionInfo": {
     "elapsed": 9,
     "status": "ok",
     "timestamp": 1760168618929,
     "user": {
      "displayName": "Максим Чавычалов",
      "userId": "09252385745420941792"
     },
     "user_tz": -180
    },
    "id": "hL_GX8juxxo6",
    "outputId": "04848f7e-81fd-4e27-dfa2-ddf4ae476da6"
   },
   "outputs": [
    {
     "name": "stdout",
     "output_type": "stream",
     "text": [
      "DocToken(stop=5, text='Тощая', id='1_1', head_id='1_2', rel='amod')\n",
      "DocToken(start=6, stop=14, text='торговка', id='1_2', head_id='1_5', rel='amod')\n",
      "DocToken(start=15, stop=22, text='вяленой', id='1_3', head_id='1_5', rel='amod')\n",
      "DocToken(start=23, stop=29, text='воблой', id='1_4', head_id='1_5', rel='amod')\n",
      "DocToken(start=30, stop=37, text='торчала', id='1_5', head_id='1_5', rel='nsubj')\n",
      "DocToken(start=38, stop=43, text='среди', id='1_6', head_id='1_7', rel='case')\n",
      "DocToken(start=44, stop=50, text='ящеров', id='1_7', head_id='1_5', rel='amod')\n"
     ]
    }
   ],
   "source": [
    "for tocken in doc.tokens:\n",
    "    print(tocken)"
   ]
  },
  {
   "cell_type": "code",
   "execution_count": 38,
   "metadata": {
    "colab": {
     "base_uri": "https://localhost:8080/"
    },
    "executionInfo": {
     "elapsed": 9,
     "status": "ok",
     "timestamp": 1760168620767,
     "user": {
      "displayName": "Максим Чавычалов",
      "userId": "09252385745420941792"
     },
     "user_tz": -180
    },
    "id": "55zu8kF6xQrK",
    "outputId": "92bc9901-80ec-4a38-aae2-a985836668a1"
   },
   "outputs": [
    {
     "name": "stdout",
     "output_type": "stream",
     "text": [
      "    ┌► Тощая    amod\n",
      "┌──►└─ торговка amod\n",
      "│ ┌──► вяленой  amod\n",
      "│ │ ┌► воблой   amod\n",
      "└─└─└─ торчала  \n",
      "│   ┌► среди    case\n",
      "└──►└─ ящеров   amod\n"
     ]
    }
   ],
   "source": [
    "doc.sents[0].syntax.print()"
   ]
  },
  {
   "cell_type": "code",
   "execution_count": null,
   "metadata": {
    "id": "Dbuwb9Jlotb3"
   },
   "outputs": [],
   "source": []
  }
 ],
 "metadata": {
  "colab": {
   "provenance": []
  },
  "kernelspec": {
   "display_name": "test",
   "language": "python",
   "name": "python3"
  },
  "language_info": {
   "codemirror_mode": {
    "name": "ipython",
    "version": 3
   },
   "file_extension": ".py",
   "mimetype": "text/x-python",
   "name": "python",
   "nbconvert_exporter": "python",
   "pygments_lexer": "ipython3",
   "version": "3.12.3"
  }
 },
 "nbformat": 4,
 "nbformat_minor": 0
}
