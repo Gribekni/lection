{
 "cells": [
  {
   "cell_type": "code",
   "execution_count": 2,
   "id": "5d402291",
   "metadata": {},
   "outputs": [
    {
     "name": "stdout",
     "output_type": "stream",
     "text": [
      "4\n",
      "4\n",
      "4\n",
      "4\n",
      "uRoD\n"
     ]
    },
    {
     "data": {
      "text/html": [
       "<pre style=\"white-space:pre;overflow-x:auto;line-height:normal;font-family:Menlo,'DejaVu Sans Mono',consolas,'Courier New',monospace\"><span style=\"color: #800000; text-decoration-color: #800000; font-weight: bold\">Hello,</span> Artyimchik<span style=\"color: #800000; text-decoration-color: #800000; font-weight: bold\">!</span>\n",
       "</pre>\n"
      ],
      "text/plain": [
       "\u001b[1;31mHello,\u001b[0m Artyimchik\u001b[1;31m!\u001b[0m\n"
      ]
     },
     "metadata": {},
     "output_type": "display_data"
    }
   ],
   "source": [
    "from rich import print as rich_print\n",
    "# task 1\n",
    "\n",
    "# создать файл my_functions.py с функциями greet и change_name\n",
    "\n",
    "# change_name - принимает строку, а возвращает измененное имя, где каждая вторая буква - большая\n",
    "\n",
    "# greet - принимает строку, ничего не возвращает, а просто принтит \"Hello имя\" с помощью украшений из rich print\n",
    "from rich import print as rich_print\n",
    "\n",
    "def change_name(name):\n",
    "    i = 0\n",
    "    newn = \"\"\n",
    "    while i < len(name):\n",
    "        print(len(name))\n",
    "        if(i) % 2 != 0:\n",
    "            newn = newn + name[i].upper()\n",
    "        else:\n",
    "            newn = newn + name[i]\n",
    "        i += 1\n",
    "    return newn\n",
    "urod = input()\n",
    "print(change_name(urod))\n",
    "\n",
    "\n",
    "def greet(name):\n",
    "    rich_print('[bold red]Hello,[/bold red]', name + '[bold red]![/bold red]')\n",
    "\n",
    "fraza = input()\n",
    "greet(fraza)"
   ]
  }
 ],
 "metadata": {
  "kernelspec": {
   "display_name": "test",
   "language": "python",
   "name": "python3"
  },
  "language_info": {
   "codemirror_mode": {
    "name": "ipython",
    "version": 3
   },
   "file_extension": ".py",
   "mimetype": "text/x-python",
   "name": "python",
   "nbconvert_exporter": "python",
   "pygments_lexer": "ipython3",
   "version": "3.12.3"
  }
 },
 "nbformat": 4,
 "nbformat_minor": 5
}
