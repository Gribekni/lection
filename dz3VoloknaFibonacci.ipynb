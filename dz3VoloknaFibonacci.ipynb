{
 "cells": [
  {
   "cell_type": "code",
   "execution_count": 1,
   "id": "fd4abdef",
   "metadata": {},
   "outputs": [
    {
     "name": "stdout",
     "output_type": "stream",
     "text": [
      "0 1 1 2 3 5 8 13 21 34 55 89 144 233 377 610 987 1597 2584 4181 6765 10946 17711 28657 46368 75025 121393 196418 317811 514229 832040 1346269 2178309 3524578 5702887 9227465 14930352 24157817 39088169 63245986 \n"
     ]
    }
   ],
   "source": [
    "def fiber(chislo):\n",
    "    if chislo == 0:\n",
    "        return 0\n",
    "    elif chislo == 1:\n",
    "        return 1\n",
    "    else:\n",
    "        newnumber = fiber(chislo - 1) + fiber(chislo - 2)\n",
    "        return newnumber\n",
    "    \n",
    "finalstring = \"\"\n",
    "for i in range(40):\n",
    "    finalstring += (str(fiber(i))) + ' '\n",
    "print(finalstring)\n"
   ]
  }
 ],
 "metadata": {
  "kernelspec": {
   "display_name": "test",
   "language": "python",
   "name": "python3"
  },
  "language_info": {
   "codemirror_mode": {
    "name": "ipython",
    "version": 3
   },
   "file_extension": ".py",
   "mimetype": "text/x-python",
   "name": "python",
   "nbconvert_exporter": "python",
   "pygments_lexer": "ipython3",
   "version": "3.12.3"
  }
 },
 "nbformat": 4,
 "nbformat_minor": 5
}
